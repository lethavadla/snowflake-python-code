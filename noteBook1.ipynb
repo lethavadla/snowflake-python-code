{
 "cells": [
  {
   "cell_type": "code",
   "execution_count": null,
   "id": "c33b81c7-0232-428e-9f97-c088441cc4dd",
   "metadata": {},
   "outputs": [],
   "source": []
  },
  {
   "cell_type": "code",
   "execution_count": 1,
   "id": "b92ef63a-9dc8-4e38-abc0-e4bf3fcad0aa",
   "metadata": {},
   "outputs": [
    {
     "name": "stdout",
     "output_type": "stream",
     "text": [
      "Hello Sreehari\n"
     ]
    }
   ],
   "source": [
    "print(\"Hello Sreehari\")"
   ]
  },
  {
   "cell_type": "code",
   "execution_count": 2,
   "id": "d65f3313-131e-4ec8-b112-f6d4c0f0eea2",
   "metadata": {},
   "outputs": [
    {
     "name": "stdout",
     "output_type": "stream",
     "text": [
      "9\n",
      "Hello Sreehari\n"
     ]
    }
   ],
   "source": [
    "x = 9\n",
    "y = \"Hello Sreehari\"\n",
    "\n",
    "print(x)\n",
    "print(y)"
   ]
  },
  {
   "cell_type": "code",
   "execution_count": 4,
   "id": "cb25b34d-5fdd-4598-bf85-fe78323356fb",
   "metadata": {},
   "outputs": [
    {
     "name": "stdout",
     "output_type": "stream",
     "text": [
      "Ram\n"
     ]
    }
   ],
   "source": [
    "x = 10     \n",
    "x = \"Ram\" \n",
    "print(x)"
   ]
  },
  {
   "cell_type": "code",
   "execution_count": 10,
   "id": "fce052f5-6029-4e12-998e-329961765864",
   "metadata": {},
   "outputs": [
    {
     "name": "stdout",
     "output_type": "stream",
     "text": [
      "x type is:: <class 'int'>\n",
      "y type is:: <class 'str'>\n"
     ]
    }
   ],
   "source": [
    "x = 5\n",
    "y = \"SREE\"\n",
    "print(\"x type is::\",type(x))\n",
    "print(\"y type is::\",type(y))"
   ]
  },
  {
   "cell_type": "code",
   "execution_count": 12,
   "id": "af8a1aef-b3b6-4642-9d9a-fdd03d9ba26c",
   "metadata": {},
   "outputs": [
    {
     "name": "stdout",
     "output_type": "stream",
     "text": [
      "Ram\n",
      "sree\n"
     ]
    }
   ],
   "source": [
    "x = \"Ram\"\n",
    "print(x)\n",
    "x = 'sree'\n",
    "print(x)"
   ]
  },
  {
   "cell_type": "code",
   "execution_count": 13,
   "id": "09aeb11d-bee7-4fec-af76-17c6ae8931c8",
   "metadata": {},
   "outputs": [
    {
     "name": "stdout",
     "output_type": "stream",
     "text": [
      "4\n",
      "Sally\n"
     ]
    }
   ],
   "source": [
    "a = 4\n",
    "A = \"Sally\"\n",
    "\n",
    "print(a)\n",
    "print(A)"
   ]
  },
  {
   "cell_type": "code",
   "execution_count": 16,
   "id": "c14580a9-1dcb-4e90-b893-40189842ed79",
   "metadata": {},
   "outputs": [
    {
     "name": "stdout",
     "output_type": "stream",
     "text": [
      "6\n"
     ]
    }
   ],
   "source": [
    "A = 4\n",
    "A = 6\n",
    "\n",
    "print(A)"
   ]
  },
  {
   "cell_type": "code",
   "execution_count": 18,
   "id": "b909a9f5-7edc-4790-8e2b-3f266ec4607b",
   "metadata": {},
   "outputs": [
    {
     "name": "stdout",
     "output_type": "stream",
     "text": [
      "sree ram\n"
     ]
    }
   ],
   "source": [
    "def my_function(fname, lname):\n",
    "  print(fname + \" \" + lname)\n",
    "\n",
    "my_function(\"sree\", \"ram\")"
   ]
  },
  {
   "cell_type": "code",
   "execution_count": 23,
   "id": "7a4d2b72-3e4c-4166-b0d4-dc6879cf4fe9",
   "metadata": {},
   "outputs": [
    {
     "name": "stdout",
     "output_type": "stream",
     "text": [
      "I am from country\n",
      "I am from India\n",
      "I am from India\n"
     ]
    }
   ],
   "source": [
    " def my_function(country = \"India\"):\n",
    "  print(\"I am from \" + country)\n",
    "\n",
    "my_function(\"country\")\n",
    "my_function(\"India\")\n",
    "my_function()\n"
   ]
  },
  {
   "cell_type": "code",
   "execution_count": null,
   "id": "5a4231ea-9675-49db-9794-14e22a50098d",
   "metadata": {},
   "outputs": [],
   "source": []
  }
 ],
 "metadata": {
  "kernelspec": {
   "display_name": "Python 3 (ipykernel)",
   "language": "python",
   "name": "python3"
  },
  "language_info": {
   "codemirror_mode": {
    "name": "ipython",
    "version": 3
   },
   "file_extension": ".py",
   "mimetype": "text/x-python",
   "name": "python",
   "nbconvert_exporter": "python",
   "pygments_lexer": "ipython3",
   "version": "3.10.9"
  }
 },
 "nbformat": 4,
 "nbformat_minor": 5
}
